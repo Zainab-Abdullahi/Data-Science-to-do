{
 "cells": [
  {
   "cell_type": "markdown",
   "id": "59897a4a",
   "metadata": {},
   "source": [
    "# PYTHON \n",
    "## What is Python?\n",
    "\n",
    "#### Python is a popular programming language. It was created by Guido van Rossum, and released in 1991.\n",
    "\n",
    "It is used for:\n",
    "\n",
    "- web development (server-side),\n",
    "- software development,\n",
    "- mathematics,\n",
    "- system scripting."
   ]
  },
  {
   "cell_type": "markdown",
   "id": "147d2f79",
   "metadata": {},
   "source": [
    "## INTRO"
   ]
  },
  {
   "cell_type": "markdown",
   "id": "846d5895",
   "metadata": {},
   "source": [
    "## VARIABLE"
   ]
  },
  {
   "cell_type": "code",
   "execution_count": 2,
   "id": "265e93fe",
   "metadata": {},
   "outputs": [
    {
     "name": "stdout",
     "output_type": "stream",
     "text": [
      "Hello world\n"
     ]
    }
   ],
   "source": [
    "print (\"Hello world\")"
   ]
  },
  {
   "cell_type": "code",
   "execution_count": 4,
   "id": "8b69ad08",
   "metadata": {},
   "outputs": [
    {
     "name": "stdout",
     "output_type": "stream",
     "text": [
      "3\n"
     ]
    }
   ],
   "source": [
    "x = 3\n",
    "print (x)"
   ]
  },
  {
   "cell_type": "code",
   "execution_count": 5,
   "id": "6ebfbf63",
   "metadata": {},
   "outputs": [
    {
     "name": "stdout",
     "output_type": "stream",
     "text": [
      "12\n"
     ]
    }
   ],
   "source": [
    "x = 3\n",
    "y =5\n",
    "z =4\n",
    "print (x+y+z)"
   ]
  },
  {
   "cell_type": "markdown",
   "id": "f0b62a98",
   "metadata": {},
   "source": [
    "## SYNTAX"
   ]
  },
  {
   "cell_type": "code",
   "execution_count": 8,
   "id": "2b369abe",
   "metadata": {},
   "outputs": [
    {
     "name": "stdout",
     "output_type": "stream",
     "text": [
      "five is greater than two!\n"
     ]
    }
   ],
   "source": [
    "if 5 > 2:\n",
    "    print (\"five is greater than two!\")"
   ]
  },
  {
   "cell_type": "markdown",
   "id": "3baa7691",
   "metadata": {},
   "source": [
    "## COMMENTS"
   ]
  },
  {
   "cell_type": "code",
   "execution_count": 10,
   "id": "8af0fd0e",
   "metadata": {},
   "outputs": [],
   "source": [
    "#This is a comment"
   ]
  },
  {
   "cell_type": "markdown",
   "id": "7718c2c5",
   "metadata": {},
   "source": [
    "## CASTING\n",
    "If you want to specify the data type of a variable, this can be done with casting."
   ]
  },
  {
   "cell_type": "code",
   "execution_count": 13,
   "id": "d1ef9f89",
   "metadata": {},
   "outputs": [
    {
     "name": "stdout",
     "output_type": "stream",
     "text": [
      "3 3 3.0\n"
     ]
    }
   ],
   "source": [
    "x = str(3)    # x will be '3'\n",
    "y = int(3)    # y will be 3\n",
    "z = float(3)  # z will be 3.0\n",
    "\n",
    "print (x, y, z)"
   ]
  },
  {
   "cell_type": "markdown",
   "id": "3bb95685",
   "metadata": {},
   "source": [
    "## GET THE TYPE"
   ]
  },
  {
   "cell_type": "code",
   "execution_count": 15,
   "id": "0b22de9b",
   "metadata": {},
   "outputs": [
    {
     "name": "stdout",
     "output_type": "stream",
     "text": [
      "<class 'int'>\n",
      "<class 'str'>\n"
     ]
    }
   ],
   "source": [
    "# You can get the data type of a variable with the type ()function\n",
    "x = 5\n",
    "y = \"John\"\n",
    "\n",
    "print (type(x))\n",
    "print (type(y))"
   ]
  },
  {
   "cell_type": "markdown",
   "id": "43ccc869",
   "metadata": {},
   "source": [
    "## SINGLE OR DOUBLE QUOTES?\n",
    "String variables can be declared either by using single or double quotes"
   ]
  },
  {
   "cell_type": "code",
   "execution_count": 16,
   "id": "78657aba",
   "metadata": {},
   "outputs": [],
   "source": [
    "x = \"John\"\n",
    "# is the same\n",
    "x = 'John'"
   ]
  },
  {
   "cell_type": "markdown",
   "id": "1e77e899",
   "metadata": {},
   "source": [
    "## CASE-SENSITIVE\n",
    "\n",
    "Variable names are case-sensitive\n",
    "\n",
    "Example: This will create two variable\n"
   ]
  },
  {
   "cell_type": "code",
   "execution_count": 19,
   "id": "19961af4",
   "metadata": {},
   "outputs": [
    {
     "name": "stdout",
     "output_type": "stream",
     "text": [
      "4 Sally\n"
     ]
    }
   ],
   "source": [
    "a = 4\n",
    "A = \"Sally\"\n",
    "#A will not overwrite a\n",
    "print (a, A)"
   ]
  },
  {
   "cell_type": "markdown",
   "id": "10d650e4",
   "metadata": {},
   "source": [
    "## Multi Words Variable Names\n",
    "Variable names with more than one word can be difficult to read.\n",
    "\n",
    "There are several techniques you can use to make them more readable:"
   ]
  },
  {
   "cell_type": "markdown",
   "id": "591cdce8",
   "metadata": {},
   "source": [
    "Camel Case\n",
    "Each word, except the first, starts with a capital letter:\n",
    "\n",
    "myVariableName = \"John\"\n",
    "Pascal Case\n",
    "Each word starts with a capital letter:\n",
    "\n",
    "MyVariableName = \"John\"\n",
    "Snake Case\n",
    "Each word is separated by an underscore character:\n",
    "\n",
    "my_variable_name = \"John\""
   ]
  },
  {
   "cell_type": "markdown",
   "id": "6a6b412c",
   "metadata": {},
   "source": [
    "## Global Variables\n",
    "Variables that are created outside of a function (as in all of the examples above) are known as global variables.\n",
    "\n",
    "Global variables can be used by everyone, both inside of functions and outside.\n",
    "\n",
    "Example\n",
    "Create a variable outside of a function, and use it inside the function\n",
    "\n"
   ]
  },
  {
   "cell_type": "code",
   "execution_count": 21,
   "id": "db95171b",
   "metadata": {},
   "outputs": [
    {
     "name": "stdout",
     "output_type": "stream",
     "text": [
      "Python is awesome\n"
     ]
    }
   ],
   "source": [
    "x = \"awesome\"\n",
    "\n",
    "def myfunc():\n",
    "  print(\"Python is \" + x)\n",
    "\n",
    "myfunc()"
   ]
  },
  {
   "cell_type": "code",
   "execution_count": 23,
   "id": "8f7a0742",
   "metadata": {},
   "outputs": [
    {
     "name": "stdout",
     "output_type": "stream",
     "text": [
      "Python is fantastic\n",
      "Python is awesome\n"
     ]
    }
   ],
   "source": [
    "#Example\n",
    "#Create a variable inside a function, with the same name as the global variable\n",
    "\n",
    "x = \"awesome\"\n",
    "\n",
    "def myfunc():\n",
    "  x = \"fantastic\"\n",
    "  print(\"Python is \" + x)\n",
    "\n",
    "myfunc()\n",
    "\n",
    "print(\"Python is \" + x)"
   ]
  },
  {
   "cell_type": "markdown",
   "id": "e2729e8a",
   "metadata": {},
   "source": [
    "## Python Numbers\n",
    "There are three numeric types in Python:\n",
    "\n",
    "int\n",
    "float\n",
    "complex\n",
    "Variables of numeric types are created when you assign a value to them:\n",
    "\n",
    "Example\n"
   ]
  },
  {
   "cell_type": "code",
   "execution_count": 24,
   "id": "7dd58e52",
   "metadata": {},
   "outputs": [
    {
     "name": "stdout",
     "output_type": "stream",
     "text": [
      "<class 'int'>\n",
      "<class 'float'>\n",
      "<class 'complex'>\n"
     ]
    }
   ],
   "source": [
    "x = 1    # int\n",
    "y = 2.8  # float\n",
    "z = 1j   # complex\n",
    "#To verify the type of any object in Python, use the type() function:\n",
    "\n",
    "#Example\n",
    "print(type(x))\n",
    "print(type(y))\n",
    "print(type(z))"
   ]
  },
  {
   "cell_type": "code",
   "execution_count": 25,
   "id": "e3a3f86c",
   "metadata": {},
   "outputs": [
    {
     "name": "stdout",
     "output_type": "stream",
     "text": [
      "<class 'int'>\n",
      "<class 'int'>\n",
      "<class 'int'>\n"
     ]
    }
   ],
   "source": [
    "#Int\n",
    "#Int, or integer, is a whole number, positive or negative, without decimals, of unlimited length.\n",
    "\n",
    "#Example\n",
    "#Integers:\n",
    "\n",
    "x = 1\n",
    "y = 35656222554887711\n",
    "z = -3255522\n",
    "\n",
    "print(type(x))\n",
    "print(type(y))\n",
    "print(type(z))"
   ]
  },
  {
   "cell_type": "code",
   "execution_count": 26,
   "id": "ddbb1f62",
   "metadata": {},
   "outputs": [
    {
     "name": "stdout",
     "output_type": "stream",
     "text": [
      "<class 'float'>\n",
      "<class 'float'>\n",
      "<class 'float'>\n",
      "<class 'float'>\n",
      "<class 'float'>\n",
      "<class 'float'>\n"
     ]
    }
   ],
   "source": [
    "#Float\n",
    "#Float, or \"floating point number\" is a number, positive or negative, containing one or more decimals.\n",
    "\n",
    "#Example\n",
    "#Floats:\n",
    "\n",
    "x = 1.10\n",
    "y = 1.0\n",
    "z = -35.59\n",
    "\n",
    "print(type(x))\n",
    "print(type(y))\n",
    "print(type(z))\n",
    "#Float can also be scientific numbers with an \"e\" to indicate the power of 10.\n",
    "\n",
    "#Example\n",
    "#Floats:\n",
    "\n",
    "x = 35e3\n",
    "y = 12E4\n",
    "z = -87.7e100\n",
    "\n",
    "print(type(x))\n",
    "print(type(y))\n",
    "print(type(z))"
   ]
  },
  {
   "cell_type": "code",
   "execution_count": 27,
   "id": "967a769c",
   "metadata": {},
   "outputs": [
    {
     "name": "stdout",
     "output_type": "stream",
     "text": [
      "<class 'complex'>\n",
      "<class 'complex'>\n",
      "<class 'complex'>\n"
     ]
    }
   ],
   "source": [
    "#Complex\n",
    "#Complex numbers are written with a \"j\" as the imaginary part:\n",
    "\n",
    "#Example\n",
    "#Complex:\n",
    "\n",
    "x = 3+5j\n",
    "y = 5j\n",
    "z = -5j\n",
    "\n",
    "print(type(x))\n",
    "print(type(y))\n",
    "print(type(z))\n",
    "#Type Conversion\n",
    "#You can convert from one type to another with the int(), float(), and complex() methods:"
   ]
  },
  {
   "cell_type": "code",
   "execution_count": 28,
   "id": "e510d6d9",
   "metadata": {},
   "outputs": [
    {
     "name": "stdout",
     "output_type": "stream",
     "text": [
      "1.0\n",
      "2\n",
      "(1+0j)\n",
      "<class 'float'>\n",
      "<class 'int'>\n",
      "<class 'complex'>\n"
     ]
    }
   ],
   "source": [
    "#Example\n",
    "#Convert from one type to another:\n",
    "\n",
    "x = 1    # int\n",
    "y = 2.8  # float\n",
    "z = 1j   # complex\n",
    "\n",
    "#convert from int to float:\n",
    "a = float(x)\n",
    "\n",
    "#convert from float to int:\n",
    "b = int(y)\n",
    "\n",
    "#convert from int to complex:\n",
    "c = complex(x)\n",
    "\n",
    "print(a)\n",
    "print(b)\n",
    "print(c)\n",
    "\n",
    "print(type(a))\n",
    "print(type(b))\n",
    "print(type(c))\n",
    "#Note: You cannot convert complex numbers into another number type.\n"
   ]
  },
  {
   "cell_type": "code",
   "execution_count": null,
   "id": "0a0cef3a",
   "metadata": {},
   "outputs": [],
   "source": []
  }
 ],
 "metadata": {
  "kernelspec": {
   "display_name": "Python 3 (ipykernel)",
   "language": "python",
   "name": "python3"
  },
  "language_info": {
   "codemirror_mode": {
    "name": "ipython",
    "version": 3
   },
   "file_extension": ".py",
   "mimetype": "text/x-python",
   "name": "python",
   "nbconvert_exporter": "python",
   "pygments_lexer": "ipython3",
   "version": "3.11.5"
  }
 },
 "nbformat": 4,
 "nbformat_minor": 5
}
